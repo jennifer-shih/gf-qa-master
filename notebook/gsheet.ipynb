{
 "cells": [
  {
   "cell_type": "code",
   "execution_count": 2,
   "metadata": {},
   "outputs": [],
   "source": [
    "import os\n",
    "os.chdir('..')\n",
    "import pathlib\n",
    "from src.helper.gsheet import GSpreadSheet, GWorkSheet, GRecord\n",
    "\n",
    "GSheet_KEY = '1XeoaJP9dGA9NLmfcpRN6ZMdKc6KQd2ws7msZWLaTna4'\n",
    "CLIENT_SECRET_PATH = pathlib.Path.cwd() / 'notebook' / 'test_data' / 'client_secret_for_test.json'\n",
    "RECORD_KEY_INDEX = 0\n",
    "\n",
    "spreadsheet = GSpreadSheet(CLIENT_SECRET_PATH, GSheet_KEY)\n",
    "worksheet = spreadsheet.get_worksheet(name='gsheet_test', key_index=RECORD_KEY_INDEX)"
   ]
  },
  {
   "cell_type": "markdown",
   "metadata": {},
   "source": [
    "- GSheet_KEY: 在 google sheet 的 url 的其中一段 <br>\n",
    "    e.g., https://docs.google.com/spreadsheets/d/1XeoaJP9dGA9NLmfcpRN6ZMdKc6KQd2ws7msZWLaTna4/edit#gid=0 <br>\n",
    "    `key = '1XeoaJP9dGA9NLmfcpRN6ZMdKc6KQd2ws7msZWLaTna4'`  <br><br>\n",
    "\n",
    "- CLIENT_SECRET_PATH: 建立方法請參考 https://pygsheets.readthedocs.io/en/stable/authorization.html  \n",
    "- RECORD_KEY_INDEX: 儲存 Record Key 的欄位\n"
   ]
  },
  {
   "cell_type": "code",
   "execution_count": null,
   "metadata": {},
   "outputs": [],
   "source": [
    "INSERT_ROW = 1\n",
    "record = worksheet.init_row_record(INSERT_ROW)\n",
    "record.set(1, '111')\n",
    "record.set(3, '333')\n",
    "record.set(6, '666')\n",
    "worksheet.send_record(record)"
   ]
  },
  {
   "cell_type": "markdown",
   "metadata": {},
   "source": [
    "1. init_row_record: 在 gsheet 插入一個帶有key的row (`insert_row`為要插入的row index, 預設為 1; 0 為 table title)\n",
    "2. `init_row_record()` 會回傳 record, 可以透過 `set(index, val)`對 record 的各個欄位添加值 <br>\n",
    "<font color=#800000> 不可對 key 做變更，如果更改key會 `throw KeyCanNotBeModifiedError` </font> <br>\n",
    "3. 將 record 透過 `worksheet.send_record` 送出 <br>\n",
    "可以看到 sheet 的 row 1 插入一條新的 row (以時間為key)"
   ]
  },
  {
   "cell_type": "code",
   "execution_count": 3,
   "metadata": {},
   "outputs": [],
   "source": [
    "worksheet.clear()"
   ]
  },
  {
   "cell_type": "markdown",
   "metadata": {},
   "source": [
    "從 A2 往後的 cell 都會清除 value"
   ]
  },
  {
   "cell_type": "code",
   "execution_count": null,
   "metadata": {},
   "outputs": [],
   "source": [
    "worksheet.delete_all()"
   ]
  },
  {
   "cell_type": "markdown",
   "metadata": {},
   "source": [
    "刪除所有的 cell (只會留下 row 1)"
   ]
  }
 ],
 "metadata": {
  "interpreter": {
   "hash": "5307450219bf7dc8d7df44f2048877999b217f47c889c66b3ac6f6ef2c3b7877"
  },
  "kernelspec": {
   "display_name": "Python 3.8.6 64-bit ('gf-qa': pyenv)",
   "language": "python",
   "name": "python3"
  },
  "language_info": {
   "codemirror_mode": {
    "name": "ipython",
    "version": 3
   },
   "file_extension": ".py",
   "mimetype": "text/x-python",
   "name": "python",
   "nbconvert_exporter": "python",
   "pygments_lexer": "ipython3",
   "version": "3.8.6"
  },
  "orig_nbformat": 4
 },
 "nbformat": 4,
 "nbformat_minor": 2
}
